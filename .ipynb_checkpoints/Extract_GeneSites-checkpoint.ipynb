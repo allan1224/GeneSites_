{
 "cells": [
  {
   "cell_type": "code",
   "execution_count": 3,
   "id": "46d67ca8-6c36-47a5-9a9b-661303f5aeed",
   "metadata": {},
   "outputs": [],
   "source": [
    "import pandas as pd\n",
    "import sys\n",
    "import numpy as np"
   ]
  },
  {
   "cell_type": "code",
   "execution_count": 4,
   "id": "44d2ecd5-987e-4799-87fa-6b4be7df64a2",
   "metadata": {},
   "outputs": [],
   "source": [
    "# function to reformat coordinates\n",
    "def reformatRef(object):\n",
    "    arr = object.split(\",\")\n",
    "    arr.remove(\"\")\n",
    "    arr = list(map(int, arr))\n",
    "    arr = list(map(lambda x:x-2, arr))\n",
    "    #print(arr)\n",
    "    return arr\n",
    "    \n",
    "\n",
    "# function to find starting coordinates in exon starts list\n",
    "def find(starting):\n",
    "    indices = np.array([])\n",
    "    for index,values in starts.iteritems():\n",
    "        #print(values)\n",
    "        if starting in values:\n",
    "            print(starting, 'found at row:', index)\n",
    "            indices = np.append(indices, index)\n",
    "    return indices\n",
    "        \n",
    "# process chunk \n",
    "def process(chunk):\n",
    "    for row in chunk.itertuples():\n",
    "        # get chromosome and start coordinates\n",
    "        #print(row)\n",
    "        chro = (row._1)\n",
    "        start = (row._2)\n",
    "        print(chro,start)\n",
    "        \n",
    "        results = find(chro,start)\n",
    "        "
   ]
  },
  {
   "cell_type": "code",
   "execution_count": 5,
   "id": "dca84f74-67d3-436f-a7aa-ab09dfb75c8f",
   "metadata": {},
   "outputs": [
    {
     "name": "stdout",
     "output_type": "stream",
     "text": [
      "(63149, 5)\n",
      "(63149,)\n"
     ]
    }
   ],
   "source": [
    "# Load ref database\n",
    "ref = pd.read_csv('/Volumes/Samsung_T5/hg19_refGene.csv', chunksize=1000)\n",
    "ref = pd.concat(ref,ignore_index=True)\n",
    "print(ref.shape)\n",
    "print(ref[\"Exon starts\"].shape)\n",
    "starts = ref[\"Exon starts\"]\n",
    "\n",
    "# reformat coordinates\n",
    "reformat = lambda x: reformatRef(x)\n",
    "starts = starts.apply(reformat)"
   ]
  },
  {
   "cell_type": "code",
   "execution_count": 6,
   "id": "c0b54826-9fe2-4980-8eef-7839c02bfa51",
   "metadata": {},
   "outputs": [
    {
     "name": "stdout",
     "output_type": "stream",
     "text": [
      "0    [58856546, 58858716, 58861733, 58862754, 58863...\n",
      "1    [52559166, 52569651, 52570797, 52573614, 52575...\n",
      "2    [52559166, 52569651, 52570797, 52573614, 52575...\n",
      "3    [52559166, 52569651, 52570797, 52573614, 52575...\n",
      "4    [52559166, 52569651, 52570797, 52573614, 52575...\n",
      "5    [52559166, 52569651, 52570797, 52573614, 52575...\n",
      "6    [52559166, 52569651, 52570797, 52573614, 52575...\n",
      "7    [52559166, 52569651, 52570797, 52573614, 52575...\n",
      "8    [52559166, 52569651, 52570797, 52573614, 52575...\n",
      "9    [9220301, 9220776, 9221333, 9222338, 9223081, ...\n",
      "Name: Exon starts, dtype: object\n",
      "52559166 found at row: 1\n",
      "52559166 found at row: 2\n",
      "52559166 found at row: 3\n",
      "52559166 found at row: 4\n",
      "52559166 found at row: 5\n",
      "52559166 found at row: 6\n",
      "52559166 found at row: 7\n",
      "52559166 found at row: 8\n"
     ]
    }
   ],
   "source": [
    "# Testing\n",
    "print(starts.head(10))\n",
    "results = find(52559166)"
   ]
  },
  {
   "cell_type": "code",
   "execution_count": 1,
   "id": "c9a9d792-8339-4808-ab65-5530eb4c9fcd",
   "metadata": {},
   "outputs": [
    {
     "ename": "NameError",
     "evalue": "name 'pd' is not defined",
     "output_type": "error",
     "traceback": [
      "\u001b[0;31m---------------------------------------------------------------------------\u001b[0m",
      "\u001b[0;31mNameError\u001b[0m                                 Traceback (most recent call last)",
      "\u001b[0;32m/var/folders/7t/d0kfhz5s52j7vsfj1pp042tm0000gn/T/ipykernel_34385/1251076624.py\u001b[0m in \u001b[0;36m<module>\u001b[0;34m\u001b[0m\n\u001b[1;32m      1\u001b[0m \u001b[0;31m# Read input file\u001b[0m\u001b[0;34m\u001b[0m\u001b[0;34m\u001b[0m\u001b[0;34m\u001b[0m\u001b[0m\n\u001b[1;32m      2\u001b[0m \u001b[0mchunksize\u001b[0m \u001b[0;34m=\u001b[0m \u001b[0;36m20000\u001b[0m\u001b[0;34m\u001b[0m\u001b[0;34m\u001b[0m\u001b[0m\n\u001b[0;32m----> 3\u001b[0;31m \u001b[0;32mfor\u001b[0m \u001b[0mchunk\u001b[0m \u001b[0;32min\u001b[0m \u001b[0mpd\u001b[0m\u001b[0;34m.\u001b[0m\u001b[0mread_table\u001b[0m\u001b[0;34m(\u001b[0m\u001b[0;34m'/Volumes/Samsung_T5/GeneSites/hg19_SAS.sites.2015_08.txt'\u001b[0m\u001b[0;34m,\u001b[0m \u001b[0mchunksize\u001b[0m\u001b[0;34m=\u001b[0m\u001b[0mchunksize\u001b[0m\u001b[0;34m,\u001b[0m \u001b[0miterator\u001b[0m\u001b[0;34m=\u001b[0m\u001b[0;32mTrue\u001b[0m\u001b[0;34m)\u001b[0m\u001b[0;34m:\u001b[0m\u001b[0;34m\u001b[0m\u001b[0;34m\u001b[0m\u001b[0m\n\u001b[0m\u001b[1;32m      4\u001b[0m     \u001b[0mprocess\u001b[0m\u001b[0;34m(\u001b[0m\u001b[0mchunk\u001b[0m\u001b[0;34m)\u001b[0m\u001b[0;34m\u001b[0m\u001b[0;34m\u001b[0m\u001b[0m\n",
      "\u001b[0;31mNameError\u001b[0m: name 'pd' is not defined"
     ]
    }
   ],
   "source": [
    "# Read input file\n",
    "chunksize = 20000\n",
    "for chunk in pd.read_table('/Volumes/Samsung_T5/GeneSites/hg19_SAS.sites.2015_08.txt', chunksize=chunksize, iterator=True):\n",
    "    process(chunk)"
   ]
  },
  {
   "cell_type": "code",
   "execution_count": null,
   "id": "3e110c59-c048-4c73-8ce6-83cc606642a1",
   "metadata": {},
   "outputs": [],
   "source": []
  },
  {
   "cell_type": "code",
   "execution_count": null,
   "id": "59505879-06c2-421d-9f65-900f74fd4d7b",
   "metadata": {},
   "outputs": [],
   "source": []
  },
  {
   "cell_type": "code",
   "execution_count": null,
   "id": "11750231-cb5a-4635-b59a-9e1b55274150",
   "metadata": {},
   "outputs": [],
   "source": []
  },
  {
   "cell_type": "code",
   "execution_count": null,
   "id": "692030c3-b2e7-464c-9063-3bc5c30d9a6b",
   "metadata": {},
   "outputs": [],
   "source": []
  },
  {
   "cell_type": "code",
   "execution_count": null,
   "id": "d6dd1edf-330f-49cf-bcfd-161cee50566f",
   "metadata": {},
   "outputs": [],
   "source": []
  },
  {
   "cell_type": "code",
   "execution_count": null,
   "id": "96ef2520-b2f0-4c50-af7f-07ce3b5e5b67",
   "metadata": {},
   "outputs": [],
   "source": []
  },
  {
   "cell_type": "code",
   "execution_count": null,
   "id": "a629e71e-6d10-4895-b1f9-121ff8be9d0a",
   "metadata": {},
   "outputs": [],
   "source": []
  },
  {
   "cell_type": "code",
   "execution_count": null,
   "id": "69df1c1b-ac96-4eab-a529-311ca23dbcf3",
   "metadata": {},
   "outputs": [],
   "source": []
  },
  {
   "cell_type": "code",
   "execution_count": null,
   "id": "72276f4e-423a-4c5e-a096-42e50c3a9ec5",
   "metadata": {},
   "outputs": [],
   "source": []
  },
  {
   "cell_type": "code",
   "execution_count": null,
   "id": "78b2dc25-1b78-48bf-8095-6b84db6b42e0",
   "metadata": {},
   "outputs": [],
   "source": []
  }
 ],
 "metadata": {
  "kernelspec": {
   "display_name": "Python 3 (ipykernel)",
   "language": "python",
   "name": "python3"
  },
  "language_info": {
   "codemirror_mode": {
    "name": "ipython",
    "version": 3
   },
   "file_extension": ".py",
   "mimetype": "text/x-python",
   "name": "python",
   "nbconvert_exporter": "python",
   "pygments_lexer": "ipython3",
   "version": "3.8.12"
  }
 },
 "nbformat": 4,
 "nbformat_minor": 5
}
